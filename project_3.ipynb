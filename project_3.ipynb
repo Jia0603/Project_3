{
 "cells": [
  {
   "metadata": {},
   "cell_type": "markdown",
   "source": [
    "# Project 3 — Dirichlet–Neumann Domain Decomposition\n",
    "This notebook demonstrates the implementation and results of a parallel Dirichlet–Neumann (D–N) iteration\n",
    "for the steady-state heat equation inside a multi-room apartment.\n",
    "\n",
    "**Tasks covered**\n",
    "| PDF task | Description |\n",
    "|-----------|--------------|\n",
    "| Task 1 | Build discrete Laplace matrices (Δx = 1/3) |\n",
    "| Task 2 | Test if the heating system is sufficient (Δx = 1/20, K = 10, ω = 0.8) |\n",
    "| Task 3 | Visualize temperature distribution |\n",
    "| Task 4 | Sensitivity to parameters (ω, K, heater temp) |\n",
    "| Project 3a | Extended 2.5-room apartment (5 MPI processes) |\n"
   ],
   "id": "82f63d9f2e2d216b"
  },
  {
   "metadata": {},
   "cell_type": "markdown",
   "source": "## Environment setup",
   "id": "286fcd475ceed998"
  },
  {
   "metadata": {},
   "cell_type": "code",
   "outputs": [],
   "execution_count": null,
   "source": [
    "import os, sys, subprocess, numpy as np, matplotlib.pyplot as plt\n",
    "\n",
    "# ---- Project path & mpiexec (Mac / Homebrew) ----\n",
    "PROJECT_ROOT = \"\"\n",
    "sys.path.append(PROJECT_ROOT)\n",
    "\n",
    "mpiexec = \"/opt/homebrew/bin/mpiexec\"\n",
    "# mpiexec = mpiexec\n",
    "assert os.path.exists(mpiexec), \"Please verify your mpiexec path!\"\n",
    "\n",
    "# Output directories\n",
    "os.makedirs(\"output\", exist_ok=True)\n",
    "os.makedirs(\"ext_output\", exist_ok=True)"
   ],
   "id": "217257ffb0174620"
  },
  {
   "metadata": {},
   "cell_type": "markdown",
   "source": [
    "## Task 1 — Matrix structure demonstration (Δx = 1/3)\n",
    "* Each subdomain (room) is discretized with an interior grid of size (Nx-2) × (Ny-2).\n",
    "* Dirichlet boundaries remove the boundary nodes from the unknown vector and move their contribution to **b**.\n",
    "* Neumann boundaries appear as ± 1/Δx terms inside **A** and **b**.\n",
    "* In the D–N iteration, Ω₂ uses Dirichlet data from interfaces Γ₁, Γ₂ while Ω₁ and Ω₃ use Neumann fluxes."
   ],
   "id": "34393d57f5b45b86"
  },
  {
   "metadata": {},
   "cell_type": "code",
   "outputs": [],
   "execution_count": null,
   "source": [
    "from common.boundary_config import get_boundary_conditions\n",
    "from common.utils import get_room_grid_info, get_interface_grid_info\n",
    "from core.matrix_builder import build_laplace_matrix_mixed, build_b_mixed\n",
    "import numpy as np\n",
    "\n",
    "dx = dy = 1/3\n",
    "\n",
    "iface_info = get_interface_grid_info(dx, dy)\n",
    "Ny_interface = iface_info['Ny_interface'][0]   # 与 room1/room3 的竖直接口\n",
    "# 仅用于 Task 1 演示，给个占位接口；A 与这些数值无关，但 b 需要形状正确\n",
    "gamma1_demo = np.zeros(Ny_interface)  # Ω1↔Ω2 的接口值（Dirichlet/Neumann 视房间而定）\n",
    "gamma2_demo = np.zeros(Ny_interface)  # Ω2↔Ω3 的接口值\n",
    "\n",
    "def demo_room_matrix(room_name):\n",
    "    # 取该房间网格尺寸\n",
    "    room_info = get_room_grid_info(room_name, dx, dy)\n",
    "    Nx, Ny = room_info['Nx'], room_info['Ny']\n",
    "\n",
    "    # room1 需要 gamma1（右边 Neumann），room3 需要 gamma2（左边 Neumann），\n",
    "    # room2 需要 gamma1/gamma2 作为左右 Dirichlet 的接口段\n",
    "    if room_name == \"room1\":\n",
    "        bc_types, bc_values = get_boundary_conditions(room_name, gamma1_demo, None, dx=dx, dy=dy)\n",
    "    elif room_name == \"room2\":\n",
    "        bc_types, bc_values = get_boundary_conditions(room_name, gamma1_demo, gamma2_demo, dx=dx, dy=dy)\n",
    "    elif room_name == \"room3\":\n",
    "        bc_types, bc_values = get_boundary_conditions(room_name, None, gamma2_demo, dx=dx, dy=dy)\n",
    "    else:\n",
    "        raise ValueError(\"Only room1/room2/room3 in Project 3.\")\n",
    "\n",
    "    # 组装 A 与 b\n",
    "    A, nx, ny = build_laplace_matrix_mixed(Nx, Ny, dx, bc_types)\n",
    "    b = build_b_mixed(Nx, Ny, dx, bc_types, bc_values)\n",
    "\n",
    "    print(f\"\\n[{room_name}] Δx=1/3 -> internal size = {(Nx-2)} x {(Ny-2)} -> A.shape = {A.shape}\")\n",
    "    print(A.toarray() if hasattr(A, \"toarray\") else A)\n",
    "    print(\"b:\", b)\n",
    "    return A, b\n",
    "\n",
    "A1, b1 = demo_room_matrix(\"room1\")\n",
    "A2, b2 = demo_room_matrix(\"room2\")\n",
    "A3, b3 = demo_room_matrix(\"room3\")"
   ],
   "id": "e8759130626fc131"
  },
  {
   "metadata": {},
   "cell_type": "markdown",
   "source": "## Run Project 3 (three rooms, 4 MPI processes)",
   "id": "be64d72a45bbac38"
  },
  {
   "metadata": {},
   "cell_type": "code",
   "outputs": [],
   "execution_count": null,
   "source": [
    "cmd = [\n",
    "    mpiexec, \"-n\", \"4\", \"python\", f\"main.py\"\n",
    "]\n",
    "print(\"Running:\", \" \".join(cmd))\n",
    "subprocess.run(cmd, check=True)"
   ],
   "id": "616a74de22038f05"
  },
  {
   "metadata": {},
   "cell_type": "markdown",
   "source": [
    "## Task 2 — Heating sufficiency test\n",
    "\n",
    "The average temperature over all rooms is compared with the comfort threshold (18 °C).\n",
    "If the mean value exceeds this threshold, the heating system is considered sufficient."
   ],
   "id": "f2c725894fdf4571"
  },
  {
   "metadata": {},
   "cell_type": "code",
   "outputs": [],
   "execution_count": null,
   "source": [
    "import numpy as np, glob, os\n",
    "outs = [np.load(os.path.join(\"output\", f\"u{i}.npy\")) for i in (1,2,3)]\n",
    "u_all = np.concatenate([u.ravel() for u in outs])\n",
    "u_mean = float(u_all.mean())\n",
    "print(f\"Global mean temperature = {u_mean:.2f} °C\")\n",
    "print(\"Adequate heating? \", \"YES\" if u_mean > 18.0 else \"NO\")"
   ],
   "id": "d4692e8814fd0c9"
  },
  {
   "metadata": {},
   "cell_type": "markdown",
   "source": "## Task 3 — Visualization of temperature field",
   "id": "148ad8f2744e4246"
  },
  {
   "metadata": {},
   "cell_type": "code",
   "outputs": [],
   "execution_count": null,
   "source": [
    "import matplotlib.pyplot as plt\n",
    "from common.utils import get_room_grid_info, get_interface_grid_info\n",
    "\n"
   ],
   "id": "60e9b323db496dc4"
  },
  {
   "metadata": {},
   "cell_type": "markdown",
   "source": "## Task 4 — Parameter sensitivity",
   "id": "4c89cd53bf0686d6"
  },
  {
   "metadata": {},
   "cell_type": "code",
   "outputs": [],
   "execution_count": null,
   "source": [
    "import os, subprocess, numpy as np\n",
    "\n",
    "MAIN = os.path.join(\"main_for_task4.py\")\n",
    "\n",
    "def run_case(nproc, dx=None, iters=10, omega=0.8, heater_temp=None, new_apartment=False, outdir=None):\n",
    "    cmd = [mpiexec, \"-n\", str(nproc), \"python\", MAIN,\n",
    "           \"--omega\", str(omega),\n",
    "           \"--iters\", str(iters)]\n",
    "    if dx is not None:\n",
    "        cmd += [\"--dx\", str(dx)]\n",
    "    if heater_temp is not None:\n",
    "        cmd += [\"--heater-temp\", str(heater_temp)]\n",
    "    if new_apartment:\n",
    "        cmd += [\"--new-apartment\"]\n",
    "    if outdir is not None:\n",
    "        os.makedirs(outdir, exist_ok=True)\n",
    "    print(\"Running:\", \" \".join(cmd))\n",
    "    subprocess.run(cmd, check=True)\n",
    "\n",
    "    # 读取输出（旧公寓：output；新公寓：ext_output）\n",
    "    out = \"ext_output\" if new_apartment else \"output\"\n",
    "    u_files = [\"u1.npy\", \"u2.npy\", \"u3.npy\"] + ([\"u4.npy\"] if new_apartment else [])\n",
    "    U = []\n",
    "    for f in u_files:\n",
    "        path = os.path.join(PROJECT_ROOT, out, f)\n",
    "        if os.path.exists(path):\n",
    "            U.append(np.load(path))\n",
    "    # 统计量（以全局平均温度为例；也可以改为接口残差）\n",
    "    all_vals = np.concatenate([u[~np.isnan(u)].ravel() for u in U])\n",
    "    return float(all_vals.mean())\n",
    "\n",
    "# 扫描参数\n",
    "configs = [\n",
    "    dict(nproc=4, dx=0.05, iters=10, omega=0.6, heater_temp=40, new_apartment=False),\n",
    "    dict(nproc=4, dx=0.05, iters=10, omega=0.8, heater_temp=40, new_apartment=False),\n",
    "    dict(nproc=4, dx=0.05, iters=20, omega=0.8, heater_temp=40, new_apartment=False),\n",
    "    dict(nproc=4, dx=0.05, iters=10, omega=1.0, heater_temp=40, new_apartment=False),\n",
    "    # 也可以加入新公寓的对比\n",
    "    # dict(nproc=5, dx=0.05, iters=10, omega=0.8, heater_temp=40, new_apartment=True),\n",
    "]\n",
    "\n",
    "records = []\n",
    "for c in configs:\n",
    "    meanT = run_case(**c)\n",
    "    records.append((c[\"omega\"], c[\"iters\"], c[\"heater_temp\"], c[\"dx\"], c[\"nproc\"], c[\"new_apartment\"], meanT))\n",
    "    print(f\"ω={c['omega']}, K={c['iters']}, heater={c['heater_temp']}, dx={c['dx']}, procs={c['nproc']}, new={c['new_apartment']} -> meanT={meanT:.2f}°C\")\n",
    "\n",
    "# 画图（以 ω 为横轴举例）\n",
    "import matplotlib.pyplot as plt\n",
    "xs = [r[0] for r in records]   # omega\n",
    "ys = [r[-1] for r in records]  # meanT\n",
    "plt.plot(xs, ys, marker='o')\n",
    "plt.xlabel('omega'); plt.ylabel('mean temperature (°C)')\n",
    "plt.title('Parameter sensitivity (mean T vs omega)')\n",
    "plt.grid(True)\n",
    "plt.show()"
   ],
   "id": "f663e615a609421d"
  },
  {
   "metadata": {},
   "cell_type": "markdown",
   "source": "## Project 3a：2.5 rooms",
   "id": "b1c2318f0a44f4d1"
  },
  {
   "metadata": {},
   "cell_type": "code",
   "outputs": [],
   "execution_count": null,
   "source": [
    "cmd = [mpiexec, \"-n\", \"5\", \"python\", f\"main.py\", \"-n\"]\n",
    "subprocess.run(cmd, check=True)"
   ],
   "id": "649a89b8ce93fd1b"
  },
  {
   "metadata": {},
   "cell_type": "code",
   "outputs": [],
   "execution_count": null,
   "source": [
    "import os\n",
    "from IPython.display import Image, display\n",
    "\n",
    "outdir = \"ext_output\"\n",
    "files = [f\"room{i}.png\" for i in (1,2,3,4)]\n",
    "for f in files:\n",
    "    p = os.path.join(outdir, f)\n",
    "    if os.path.exists(p):\n",
    "        display(Image(filename=p))\n",
    "    else:\n",
    "        print(\"Missing:\", p)"
   ],
   "id": "a3ac9b859e410703"
  }
 ],
 "metadata": {
  "kernelspec": {
   "display_name": "Python 3",
   "language": "python",
   "name": "python3"
  },
  "language_info": {
   "codemirror_mode": {
    "name": "ipython",
    "version": 2
   },
   "file_extension": ".py",
   "mimetype": "text/x-python",
   "name": "python",
   "nbconvert_exporter": "python",
   "pygments_lexer": "ipython2",
   "version": "2.7.6"
  }
 },
 "nbformat": 4,
 "nbformat_minor": 5
}
