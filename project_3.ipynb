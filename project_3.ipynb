{
 "cells": [
  {
   "metadata": {},
   "cell_type": "markdown",
   "source": "# Project 3 / 3a — Dirichlet–Neumann Coupling (MPI)",
   "id": "7e134f8dad07d515"
  },
  {
   "cell_type": "code",
   "id": "initial_id",
   "metadata": {
    "collapsed": true,
    "ExecuteTime": {
     "end_time": "2025-10-13T15:05:06.754853Z",
     "start_time": "2025-10-13T15:05:06.743020Z"
    }
   },
   "source": [
    "\n",
    "import os, sys, importlib\n",
    "import numpy as np\n",
    "import matplotlib.pyplot as plt\n",
    "\n",
    "# 让 /mnt/data 在路径中（如在托管环境中）；本地运行时可根据需要调整\n",
    "if '/mnt/data' not in sys.path:\n",
    "    sys.path.insert(0, '/mnt/data')\n",
    "\n",
    "mods = {}\n",
    "for name in ['boundary_config', 'utils', 'matrix_builder', 'mpi_solver', 'ext_mpi_solver', 'main']:\n",
    "    try:\n",
    "        mods[name] = importlib.import_module(name)\n",
    "        print('Imported:', name)\n",
    "    except Exception as e:\n",
    "        print('Import failed for', name, '→', e)\n",
    "\n",
    "print('\\nPython:', sys.version)\n"
   ],
   "outputs": [
    {
     "name": "stdout",
     "output_type": "stream",
     "text": [
      "Import failed for boundary_config → No module named 'boundary_config'\n",
      "Import failed for utils → No module named 'utils'\n",
      "Import failed for matrix_builder → No module named 'matrix_builder'\n",
      "Import failed for mpi_solver → No module named 'mpi_solver'\n",
      "Import failed for ext_mpi_solver → No module named 'ext_mpi_solver'\n",
      "Imported: main\n",
      "\n",
      "Python: 3.11.13 | packaged by Anaconda, Inc. | (main, Jun  5 2025, 13:03:15) [MSC v.1929 64 bit (AMD64)]\n"
     ]
    }
   ],
   "execution_count": 4
  },
  {
   "metadata": {
    "ExecuteTime": {
     "end_time": "2025-10-13T15:05:06.768363Z",
     "start_time": "2025-10-13T15:05:06.761924Z"
    }
   },
   "cell_type": "code",
   "source": [
    "\n",
    "from common.utils import get_default_dx, get_default_dy\n",
    "from common.utils import get_room_grid_info\n",
    "\n",
    "dx = get_default_dx()\n",
    "dy = get_default_dy()\n",
    "\n",
    "for room in ['room1', 'room2', 'room3']:\n",
    "    try:\n",
    "        info = get_room_grid_info(room, dx, dy)\n",
    "        print(room, '→ Nx, Ny =', info['Nx'], info['Ny'])\n",
    "    except Exception as e:\n",
    "        print('Failed for', room, ':', e)\n"
   ],
   "id": "f3a74dce87e138fc",
   "outputs": [
    {
     "name": "stdout",
     "output_type": "stream",
     "text": [
      "room1 → Nx, Ny = 21 21\n",
      "room2 → Nx, Ny = 21 41\n",
      "room3 → Nx, Ny = 21 21\n"
     ]
    }
   ],
   "execution_count": 5
  },
  {
   "metadata": {
    "ExecuteTime": {
     "end_time": "2025-10-13T15:05:06.821657Z",
     "start_time": "2025-10-13T15:05:06.814847Z"
    }
   },
   "cell_type": "code",
   "source": [
    "\n",
    "from common.boundary_config import get_boundary_conditions\n",
    "\n",
    "# 为了演示接口，构造与 room2 左右边长度一致的简易 gamma（常数初值）\n",
    "info2 = get_room_grid_info('room2', dx, dy)\n",
    "gamma_len_y = info2.get('Ny', 0) - 2 if info2 else 0\n",
    "gamma1 = np.full(gamma_len_y, 20.0) if gamma_len_y > 0 else None\n",
    "gamma2 = np.full(gamma_len_y, 20.0) if gamma_len_y > 0 else None\n",
    "\n",
    "try:\n",
    "    bc_types, bc_values = get_boundary_conditions('room2', gamma1, gamma2)\n",
    "    print('bc_types keys:', list(bc_types.keys()))\n",
    "    for k, v in bc_types.items():\n",
    "        print(' ', k, '→', v)\n",
    "except Exception as e:\n",
    "    print('Failed:', e)\n"
   ],
   "id": "2fa41a962659ead4",
   "outputs": [
    {
     "name": "stdout",
     "output_type": "stream",
     "text": [
      "Failed: could not broadcast input array from shape (39,) into shape (21,)\n"
     ]
    }
   ],
   "execution_count": 6
  }
 ],
 "metadata": {
  "kernelspec": {
   "display_name": "Python 3",
   "language": "python",
   "name": "python3"
  },
  "language_info": {
   "codemirror_mode": {
    "name": "ipython",
    "version": 2
   },
   "file_extension": ".py",
   "mimetype": "text/x-python",
   "name": "python",
   "nbconvert_exporter": "python",
   "pygments_lexer": "ipython2",
   "version": "2.7.6"
  }
 },
 "nbformat": 4,
 "nbformat_minor": 5
}
