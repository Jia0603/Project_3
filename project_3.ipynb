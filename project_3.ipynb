{
 "cells": [
  {
   "metadata": {},
   "cell_type": "markdown",
   "source": [
    "# Project 3 — Dirichlet–Neumann Domain Decomposition\n",
    "This notebook demonstrates the implementation and results of a parallel Dirichlet–Neumann (D–N) iteration\n",
    "for the steady-state heat equation inside a multi-room apartment.\n",
    "\n",
    "**Tasks covered**\n",
    "| PDF task | Description |\n",
    "|-----------|--------------|\n",
    "| Task 1 | Build discrete Laplace matrices (Δx = 1/3) |\n",
    "| Task 2 | Test if the heating system is sufficient (Δx = 1/20, K = 10, ω = 0.8) |\n",
    "| Task 3 | Visualize temperature distribution |\n",
    "| Task 4 | Sensitivity to parameters (ω, K, heater temp) |\n",
    "| Project 3a | Extended 2.5-room apartment (5 MPI processes) |\n"
   ],
   "id": "7e134f8dad07d515"
  },
  {
   "metadata": {},
   "cell_type": "markdown",
   "source": "## Environment setup",
   "id": "d4e748c00b49de13"
  },
  {
   "metadata": {
    "ExecuteTime": {
     "end_time": "2025-10-13T16:46:25.867287Z",
     "start_time": "2025-10-13T16:46:25.671960Z"
    }
   },
   "cell_type": "code",
   "source": [
    "import os, sys, subprocess, numpy as np, matplotlib.pyplot as plt\n",
    "\n",
    "# ---- Project path & mpiexec (Mac / Homebrew) ----\n",
    "PROJECT_ROOT = \"\"\n",
    "sys.path.append(PROJECT_ROOT)\n",
    "\n",
    "mpiexec = \"/opt/homebrew/bin/mpiexec\"\n",
    "# mpiexec = mpiexec\n",
    "assert os.path.exists(mpiexec), \"Please verify your mpiexec path!\"\n",
    "\n",
    "# Output directories\n",
    "os.makedirs(\"output\", exist_ok=True)\n",
    "os.makedirs(\"ext_output\", exist_ok=True)"
   ],
   "id": "6678c9d56cf353e1",
   "outputs": [],
   "execution_count": 1
  },
  {
   "metadata": {},
   "cell_type": "markdown",
   "source": [
    "## Task 1 — Matrix structure demonstration (Δx = 1/3)\n",
    "* Each subdomain (room) is discretized with an interior grid of size (Nx-2) × (Ny-2).\n",
    "* Dirichlet boundaries remove the boundary nodes from the unknown vector and move their contribution to **b**.\n",
    "* Neumann boundaries appear as ± 1/Δx terms inside **A** and **b**.\n",
    "* In the D–N iteration, Ω₂ uses Dirichlet data from interfaces Γ₁, Γ₂ while Ω₁ and Ω₃ use Neumann fluxes."
   ],
   "id": "251e03c6db21c57b"
  },
  {
   "metadata": {
    "ExecuteTime": {
     "end_time": "2025-10-13T16:46:25.875861Z",
     "start_time": "2025-10-13T16:46:25.870530Z"
    }
   },
   "cell_type": "code",
   "source": [
    "from common.boundary_config import get_boundary_conditions\n",
    "from common.utils import get_room_grid_info, get_interface_grid_info\n",
    "from core.matrix_builder import build_laplace_matrix_mixed, build_b_mixed\n",
    "import numpy as np\n",
    "\n",
    "dx = dy = 1/3\n",
    "\n",
    "iface_info = get_interface_grid_info(dx, dy)\n",
    "Ny_interface = iface_info['Ny_interface'][0]   # 与 room1/room3 的竖直接口\n",
    "# 仅用于 Task 1 演示，给个占位接口；A 与这些数值无关，但 b 需要形状正确\n",
    "gamma1_demo = np.zeros(Ny_interface)  # Ω1↔Ω2 的接口值（Dirichlet/Neumann 视房间而定）\n",
    "gamma2_demo = np.zeros(Ny_interface)  # Ω2↔Ω3 的接口值\n",
    "\n",
    "def demo_room_matrix(room_name):\n",
    "    # 取该房间网格尺寸\n",
    "    room_info = get_room_grid_info(room_name, dx, dy)\n",
    "    Nx, Ny = room_info['Nx'], room_info['Ny']\n",
    "\n",
    "    # room1 需要 gamma1（右边 Neumann），room3 需要 gamma2（左边 Neumann），\n",
    "    # room2 需要 gamma1/gamma2 作为左右 Dirichlet 的接口段\n",
    "    if room_name == \"room1\":\n",
    "        bc_types, bc_values = get_boundary_conditions(room_name, gamma1_demo, None, dx=dx, dy=dy)\n",
    "    elif room_name == \"room2\":\n",
    "        bc_types, bc_values = get_boundary_conditions(room_name, gamma1_demo, gamma2_demo, dx=dx, dy=dy)\n",
    "    elif room_name == \"room3\":\n",
    "        bc_types, bc_values = get_boundary_conditions(room_name, None, gamma2_demo, dx=dx, dy=dy)\n",
    "    else:\n",
    "        raise ValueError(\"Only room1/room2/room3 in Project 3.\")\n",
    "\n",
    "    # 组装 A 与 b\n",
    "    A, nx, ny = build_laplace_matrix_mixed(Nx, Ny, dx, bc_types)\n",
    "    b = build_b_mixed(Nx, Ny, dx, bc_types, bc_values)\n",
    "\n",
    "    print(f\"\\n[{room_name}] Δx=1/3 -> internal size = {(Nx-2)} x {(Ny-2)} -> A.shape = {A.shape}\")\n",
    "    print(A.toarray() if hasattr(A, \"toarray\") else A)\n",
    "    print(\"b:\", b)\n",
    "    return A, b\n",
    "\n",
    "A1, b1 = demo_room_matrix(\"room1\")\n",
    "A2, b2 = demo_room_matrix(\"room2\")\n",
    "A3, b3 = demo_room_matrix(\"room3\")"
   ],
   "id": "353ba69054624705",
   "outputs": [
    {
     "name": "stdout",
     "output_type": "stream",
     "text": [
      "\n",
      "[room1] Δx=1/3 -> internal size = 2 x 2 -> A.shape = (4, 4)\n",
      "[[-36.   9.   9.   0.]\n",
      " [  9. -27.   0.   9.]\n",
      " [  9.   0. -36.   9.]\n",
      " [  0.   9.   9. -27.]]\n",
      "b: [-495. -135. -495. -135.]\n",
      "\n",
      "[room2] Δx=1/3 -> internal size = 2 x 5 -> A.shape = (10, 10)\n",
      "[[-36.   9.   9.   0.   0.   0.   0.   0.   0.   0.]\n",
      " [  9. -36.   0.   9.   0.   0.   0.   0.   0.   0.]\n",
      " [  9.   0. -36.   9.   9.   0.   0.   0.   0.   0.]\n",
      " [  0.   9.   9. -36.   0.   9.   0.   0.   0.   0.]\n",
      " [  0.   0.   9.   0. -36.   9.   9.   0.   0.   0.]\n",
      " [  0.   0.   0.   9.   9. -36.   0.   9.   0.   0.]\n",
      " [  0.   0.   0.   0.   9.   0. -36.   9.   9.   0.]\n",
      " [  0.   0.   0.   0.   0.   9.   9. -36.   0.   9.]\n",
      " [  0.   0.   0.   0.   0.   0.   9.   0. -36.   9.]\n",
      " [  0.   0.   0.   0.   0.   0.   0.   9.   9. -36.]]\n",
      "b: [ -45. -180.    0. -135.    0.    0. -135.    0. -495. -360.]\n",
      "\n",
      "[room3] Δx=1/3 -> internal size = 2 x 2 -> A.shape = (4, 4)\n",
      "[[-27.   9.   9.   0.]\n",
      " [  9. -36.   0.   9.]\n",
      " [  9.   0. -27.   9.]\n",
      " [  0.   9.   9. -36.]]\n",
      "b: [-135. -495. -135. -495.]\n"
     ]
    }
   ],
   "execution_count": 2
  },
  {
   "metadata": {},
   "cell_type": "markdown",
   "source": "## Run Project 3 (three rooms, 4 MPI processes)",
   "id": "aaad6bba580b5247"
  },
  {
   "metadata": {
    "ExecuteTime": {
     "end_time": "2025-10-13T16:46:52.135689Z",
     "start_time": "2025-10-13T16:46:25.878909Z"
    }
   },
   "cell_type": "code",
   "source": [
    "cmd = [\n",
    "    mpiexec, \"-n\", \"4\", \"python\", f\"main.py\"\n",
    "]\n",
    "print(\"Running:\", \" \".join(cmd))\n",
    "subprocess.run(cmd, check=True)"
   ],
   "id": "8d6b06bbec326db0",
   "outputs": [
    {
     "name": "stdout",
     "output_type": "stream",
     "text": [
      "Running: /opt/homebrew/bin/mpiexec -n 4 python main.py\n",
      "\n",
      "==================================================\n",
      "Is the heating in the flat adequate?\n",
      "==================================================\n",
      "1. Lowest temp:6.12 ˚C\n",
      "2. Averaged temp:19.73˚C\n",
      "3. Highest temp:37.63˚C\n",
      "--------------------------------------------------\n",
      "Averged tempture > 18˚C. The heating in the flat is adequate.\n",
      "==================================================\n",
      "\n",
      "Saved figure: /Users/uljei/Documents/GitHub/Project_3/output/room1.png\n",
      "Saved figure: /Users/uljei/Documents/GitHub/Project_3/output/room2.png\n",
      "Saved figure: /Users/uljei/Documents/GitHub/Project_3/output/room3.png\n"
     ]
    },
    {
     "data": {
      "text/plain": [
       "CompletedProcess(args=['/opt/homebrew/bin/mpiexec', '-n', '4', 'python', 'main.py'], returncode=0)"
      ]
     },
     "execution_count": 3,
     "metadata": {},
     "output_type": "execute_result"
    }
   ],
   "execution_count": 3
  },
  {
   "metadata": {},
   "cell_type": "markdown",
   "source": [
    "## Task 2 — Heating sufficiency test\n",
    "\n",
    "The average temperature over all rooms is compared with the comfort threshold (18 °C).\n",
    "If the mean value exceeds this threshold, the heating system is considered sufficient."
   ],
   "id": "a75c7f6f1f26ae66"
  },
  {
   "metadata": {
    "ExecuteTime": {
     "end_time": "2025-10-13T16:46:52.141741Z",
     "start_time": "2025-10-13T16:46:52.138806Z"
    }
   },
   "cell_type": "code",
   "source": [
    "import numpy as np, glob, os\n",
    "outs = [np.load(os.path.join(\"output\", f\"u{i}.npy\")) for i in (1,2,3)]\n",
    "u_all = np.concatenate([u.ravel() for u in outs])\n",
    "u_mean = float(u_all.mean())\n",
    "print(f\"Global mean temperature = {u_mean:.2f} °C\")\n",
    "print(\"Adequate heating? \", \"YES\" if u_mean > 18.0 else \"NO\")"
   ],
   "id": "a2556a0202ed6837",
   "outputs": [
    {
     "name": "stdout",
     "output_type": "stream",
     "text": [
      "Global mean temperature = 19.73 °C\n",
      "Adequate heating?  YES\n"
     ]
    }
   ],
   "execution_count": 4
  },
  {
   "metadata": {},
   "cell_type": "markdown",
   "source": "## Task 3 — Visualization of temperature field",
   "id": "188d241b3fd445f"
  },
  {
   "metadata": {
    "ExecuteTime": {
     "end_time": "2025-10-13T16:46:52.153860Z",
     "start_time": "2025-10-13T16:46:52.152087Z"
    }
   },
   "cell_type": "code",
   "source": [
    "import matplotlib.pyplot as plt\n",
    "from common.utils import get_room_grid_info, get_interface_grid_info\n",
    "\n"
   ],
   "id": "e3dfabce80af07b1",
   "outputs": [],
   "execution_count": 5
  },
  {
   "metadata": {},
   "cell_type": "markdown",
   "source": "## Task 4 — Parameter sensitivity",
   "id": "13d2d2b61c9181c2"
  },
  {
   "metadata": {
    "ExecuteTime": {
     "end_time": "2025-10-13T16:49:11.656504Z",
     "start_time": "2025-10-13T16:46:52.159898Z"
    }
   },
   "cell_type": "code",
   "source": [
    "import os, subprocess, numpy as np\n",
    "\n",
    "MAIN = os.path.join(\"main_for_task4.py\")\n",
    "\n",
    "def run_case(nproc, dx=None, iters=10, omega=0.8, heater_temp=None, new_apartment=False, outdir=None):\n",
    "    cmd = [mpiexec, \"-n\", str(nproc), \"python\", MAIN,\n",
    "           \"--omega\", str(omega),\n",
    "           \"--iters\", str(iters)]\n",
    "    if dx is not None:\n",
    "        cmd += [\"--dx\", str(dx)]\n",
    "    if heater_temp is not None:\n",
    "        cmd += [\"--heater-temp\", str(heater_temp)]\n",
    "    if new_apartment:\n",
    "        cmd += [\"--new-apartment\"]\n",
    "    if outdir is not None:\n",
    "        os.makedirs(outdir, exist_ok=True)\n",
    "    print(\"Running:\", \" \".join(cmd))\n",
    "    subprocess.run(cmd, check=True)\n",
    "\n",
    "    # 读取输出（旧公寓：output；新公寓：ext_output）\n",
    "    out = \"ext_output\" if new_apartment else \"output\"\n",
    "    u_files = [\"u1.npy\", \"u2.npy\", \"u3.npy\"] + ([\"u4.npy\"] if new_apartment else [])\n",
    "    U = []\n",
    "    for f in u_files:\n",
    "        path = os.path.join(PROJECT_ROOT, out, f)\n",
    "        if os.path.exists(path):\n",
    "            U.append(np.load(path))\n",
    "    # 统计量（以全局平均温度为例；也可以改为接口残差）\n",
    "    all_vals = np.concatenate([u[~np.isnan(u)].ravel() for u in U])\n",
    "    return float(all_vals.mean())\n",
    "\n",
    "# 扫描参数\n",
    "configs = [\n",
    "    dict(nproc=4, dx=0.05, iters=10, omega=0.6, heater_temp=40, new_apartment=False),\n",
    "    dict(nproc=4, dx=0.05, iters=10, omega=0.8, heater_temp=40, new_apartment=False),\n",
    "    dict(nproc=4, dx=0.05, iters=20, omega=0.8, heater_temp=40, new_apartment=False),\n",
    "    dict(nproc=4, dx=0.05, iters=10, omega=1.0, heater_temp=40, new_apartment=False),\n",
    "    # 也可以加入新公寓的对比\n",
    "    # dict(nproc=5, dx=0.05, iters=10, omega=0.8, heater_temp=40, new_apartment=True),\n",
    "]\n",
    "\n",
    "records = []\n",
    "for c in configs:\n",
    "    meanT = run_case(**c)\n",
    "    records.append((c[\"omega\"], c[\"iters\"], c[\"heater_temp\"], c[\"dx\"], c[\"nproc\"], c[\"new_apartment\"], meanT))\n",
    "    print(f\"ω={c['omega']}, K={c['iters']}, heater={c['heater_temp']}, dx={c['dx']}, procs={c['nproc']}, new={c['new_apartment']} -> meanT={meanT:.2f}°C\")\n",
    "\n",
    "# 画图（以 ω 为横轴举例）\n",
    "import matplotlib.pyplot as plt\n",
    "xs = [r[0] for r in records]   # omega\n",
    "ys = [r[-1] for r in records]  # meanT\n",
    "plt.plot(xs, ys, marker='o')\n",
    "plt.xlabel('omega'); plt.ylabel('mean temperature (°C)')\n",
    "plt.title('Parameter sensitivity (mean T vs omega)')\n",
    "plt.grid(True)\n",
    "plt.show()"
   ],
   "id": "dcffcfb392655eec",
   "outputs": [
    {
     "name": "stdout",
     "output_type": "stream",
     "text": [
      "Running: /opt/homebrew/bin/mpiexec -n 4 python main_for_task4.py --omega 0.6 --iters 10 --dx 0.05 --heater-temp 40\n",
      "\n",
      "==================================================\n",
      "Is the heating in the flat adequate?\n",
      "==================================================\n",
      "1. Lowest temp:6.12 ˚C\n",
      "2. Averaged temp:19.73˚C\n",
      "3. Highest temp:37.63˚C\n",
      "--------------------------------------------------\n",
      "Averged tempture > 18˚C. The heating in the flat is adequate.\n",
      "==================================================\n",
      "\n",
      "ω=0.6, K=10, heater=40, dx=0.05, procs=4, new=False -> meanT=19.73°C\n",
      "Running: /opt/homebrew/bin/mpiexec -n 4 python main_for_task4.py --omega 0.8 --iters 10 --dx 0.05 --heater-temp 40\n",
      "\n",
      "==================================================\n",
      "Is the heating in the flat adequate?\n",
      "==================================================\n",
      "1. Lowest temp:6.12 ˚C\n",
      "2. Averaged temp:19.73˚C\n",
      "3. Highest temp:37.63˚C\n",
      "--------------------------------------------------\n",
      "Averged tempture > 18˚C. The heating in the flat is adequate.\n",
      "==================================================\n",
      "\n",
      "ω=0.8, K=10, heater=40, dx=0.05, procs=4, new=False -> meanT=19.73°C\n",
      "Running: /opt/homebrew/bin/mpiexec -n 4 python main_for_task4.py --omega 0.8 --iters 20 --dx 0.05 --heater-temp 40\n",
      "\n",
      "==================================================\n",
      "Is the heating in the flat adequate?\n",
      "==================================================\n",
      "1. Lowest temp:6.12 ˚C\n",
      "2. Averaged temp:19.73˚C\n",
      "3. Highest temp:37.63˚C\n",
      "--------------------------------------------------\n",
      "Averged tempture > 18˚C. The heating in the flat is adequate.\n",
      "==================================================\n",
      "\n",
      "ω=0.8, K=20, heater=40, dx=0.05, procs=4, new=False -> meanT=19.73°C\n",
      "Running: /opt/homebrew/bin/mpiexec -n 4 python main_for_task4.py --omega 1.0 --iters 10 --dx 0.05 --heater-temp 40\n",
      "\n",
      "==================================================\n",
      "Is the heating in the flat adequate?\n",
      "==================================================\n",
      "1. Lowest temp:6.12 ˚C\n",
      "2. Averaged temp:19.73˚C\n",
      "3. Highest temp:37.63˚C\n",
      "--------------------------------------------------\n",
      "Averged tempture > 18˚C. The heating in the flat is adequate.\n",
      "==================================================\n",
      "\n",
      "ω=1.0, K=10, heater=40, dx=0.05, procs=4, new=False -> meanT=19.73°C\n"
     ]
    },
    {
     "data": {
      "text/plain": [
       "<Figure size 640x480 with 1 Axes>"
      ],
      "image/png": "[encoded data removed]"
     },
     "metadata": {},
     "output_type": "display_data",
     "jetTransient": {
      "display_id": null
     }
    }
   ],
   "execution_count": 6
  },
  {
   "metadata": {},
   "cell_type": "markdown",
   "source": "## Project 3a：2.5 rooms",
   "id": "7429efbb3e67f04f"
  },
  {
   "metadata": {
    "ExecuteTime": {
     "end_time": "2025-10-13T16:51:19.942981Z",
     "start_time": "2025-10-13T16:50:46.416198Z"
    }
   },
   "cell_type": "code",
   "source": [
    "cmd = [mpiexec, \"-n\", \"5\", \"python\", f\"main.py\", \"-n\"]\n",
    "subprocess.run(cmd, check=True)"
   ],
   "id": "4d85f886afebe9d4",
   "outputs": [
    {
     "name": "stdout",
     "output_type": "stream",
     "text": [
      "\n",
      "==================================================\n",
      "Is the heating in the flat adequate?\n",
      "==================================================\n",
      "1. Lowest temp:6.50 ˚C\n",
      "2. Averaged temp:21.10˚C\n",
      "3. Highest temp:39.59˚C\n",
      "--------------------------------------------------\n",
      "Averged tempture > 18˚C. The heating in the flat is adequate.\n",
      "==================================================\n",
      "\n",
      "Saved figure: /Users/uljei/Documents/GitHub/Project_3/ext_output/room1.png\n",
      "Saved figure: /Users/uljei/Documents/GitHub/Project_3/ext_output/room2.png\n",
      "Saved figure: /Users/uljei/Documents/GitHub/Project_3/ext_output/room3.png\n",
      "Saved figure: /Users/uljei/Documents/GitHub/Project_3/ext_output/room4.png\n"
     ]
    },
    {
     "data": {
      "text/plain": [
       "CompletedProcess(args=['/opt/homebrew/bin/mpiexec', '-n', '5', 'python', 'main.py', '-n'], returncode=0)"
      ]
     },
     "execution_count": 10,
     "metadata": {},
     "output_type": "execute_result"
    }
   ],
   "execution_count": 10
  }
 ],
 "metadata": {
  "kernelspec": {
   "display_name": "Python 3",
   "language": "python",
   "name": "python3"
  },
  "language_info": {
   "codemirror_mode": {
    "name": "ipython",
    "version": 2
   },
   "file_extension": ".py",
   "mimetype": "text/x-python",
   "name": "python",
   "nbconvert_exporter": "python",
   "pygments_lexer": "ipython2",
   "version": "2.7.6"
  }
 },
 "nbformat": 4,
 "nbformat_minor": 5
}
