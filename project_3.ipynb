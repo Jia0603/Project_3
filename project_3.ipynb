{
 "cells": [
  {
   "metadata": {},
   "cell_type": "markdown",
   "source": [
    "# Project 3 / 3a — Dirichlet–Neumann Coupling (MPI)\n",
    "- Setup & Imports\n",
    "- Task 1. Geometry & Grid\n",
    "- Task 2. Boundary Conditions\n",
    "- Task 3. Matrix Assembly (A, b)\n",
    "- Task 4. Dirichlet–Neumann Iteration (3 rooms, MPI)  ➜ generate `output/*.npy`\n",
    "- Task 5. Visualization & Heating Adequacy（read `output/*.npy`）\n",
    "- Project 3a\n",
    "  - 3a-1. Run extended coupling (4 rooms, MPI) ➜ generate `ext_output/*.npy`\n",
    "  - 3a-2. Visualization & Comparison（read `ext_output/*.npy`）"
   ],
   "id": "7e134f8dad07d515"
  },
  {
   "metadata": {},
   "cell_type": "markdown",
   "source": "## 0. Setup & Imports\n",
   "id": "8fdb83f2990ff073"
  }
 ],
 "metadata": {
  "kernelspec": {
   "display_name": "Python 3",
   "language": "python",
   "name": "python3"
  },
  "language_info": {
   "codemirror_mode": {
    "name": "ipython",
    "version": 2
   },
   "file_extension": ".py",
   "mimetype": "text/x-python",
   "name": "python",
   "nbconvert_exporter": "python",
   "pygments_lexer": "ipython2",
   "version": "2.7.6"
  }
 },
 "nbformat": 4,
 "nbformat_minor": 5
}
